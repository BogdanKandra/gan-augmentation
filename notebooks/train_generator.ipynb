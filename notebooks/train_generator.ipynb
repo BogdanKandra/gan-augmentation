{
 "cells": [
  {
   "cell_type": "markdown",
   "metadata": {},
   "source": [
    "### Update PYTHONPATH"
   ]
  },
  {
   "cell_type": "code",
   "execution_count": null,
   "metadata": {},
   "outputs": [],
   "source": [
    "from pathlib import Path\n",
    "import sys\n",
    "\n",
    "project_path = Path.cwd()\n",
    "while project_path.stem != 'gan-augmentation':\n",
    "    project_path = project_path.parent\n",
    "sys.path.append(str(project_path))"
   ]
  },
  {
   "cell_type": "markdown",
   "metadata": {},
   "source": [
    "### Imports"
   ]
  },
  {
   "cell_type": "code",
   "execution_count": null,
   "metadata": {},
   "outputs": [],
   "source": [
    "from scripts.config import GeneratorDataset, GeneratorType\n",
    "from scripts.generators.gan_generator import GANGenerator\n",
    "from scripts.generators.dcgan_generator import DCGANGenerator\n",
    "from scripts.generators.ddpm_generator import DDPMGenerator\n",
    "from scripts.generators.ddim_generator import DDIMGenerator"
   ]
  },
  {
   "cell_type": "markdown",
   "metadata": {},
   "source": [
    "### Train a generator on one of the datasets"
   ]
  },
  {
   "cell_type": "markdown",
   "metadata": {},
   "source": [
    "#### Choose the dataset and instantiate a generator type "
   ]
  },
  {
   "cell_type": "code",
   "execution_count": null,
   "metadata": {},
   "outputs": [],
   "source": [
    "generator_type = GeneratorType.GAN\n",
    "dataset_type = GeneratorDataset.FASHION_MNIST"
   ]
  },
  {
   "cell_type": "code",
   "execution_count": null,
   "metadata": {},
   "outputs": [],
   "source": [
    "match generator_type:\n",
    "    case GeneratorType.GAN:\n",
    "        gen = GANGenerator(dataset_type)\n",
    "    case GeneratorType.DCGAN:\n",
    "        gen = DCGANGenerator(dataset_type)\n",
    "    case GeneratorType.DDPM:\n",
    "        gen = DDPMGenerator(dataset_type)\n",
    "    case GeneratorType.DDIM:\n",
    "        gen = DDIMGenerator(dataset_type)\n",
    "    case _:\n",
    "        raise ValueError('Unavailable generator type')"
   ]
  }
 ],
 "metadata": {
  "kernelspec": {
   "display_name": "gan",
   "language": "python",
   "name": "python3"
  },
  "language_info": {
   "name": "python",
   "version": "3.10.14"
  }
 },
 "nbformat": 4,
 "nbformat_minor": 2
}
