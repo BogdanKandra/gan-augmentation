{
 "cells": [
  {
   "attachments": {},
   "cell_type": "markdown",
   "metadata": {},
   "source": [
    "### Update PYTHONPATH"
   ]
  },
  {
   "cell_type": "code",
   "execution_count": null,
   "metadata": {},
   "outputs": [],
   "source": [
    "from pathlib import Path\n",
    "import sys\n",
    "\n",
    "project_path = Path.cwd()\n",
    "while project_path.stem != 'gan-augmentation':\n",
    "    project_path = project_path.parent\n",
    "sys.path.append(str(project_path))"
   ]
  },
  {
   "attachments": {},
   "cell_type": "markdown",
   "metadata": {},
   "source": [
    "### Imports"
   ]
  },
  {
   "cell_type": "code",
   "execution_count": null,
   "metadata": {},
   "outputs": [],
   "source": [
    "from scripts.classifiers.shallow_original_classifier import SNNOriginalClassifier\n",
    "from scripts.classifiers.deep_original_classifier import DNNOriginalClassifier\n",
    "from scripts.classifiers.convolutional_original_classifier import CNNOriginalClassifier\n",
    "from scripts.classifiers.efficientnet_original_classifier import EfficientNetOriginalClassifier\n",
    "from scripts.config import ClassifierType"
   ]
  },
  {
   "attachments": {},
   "cell_type": "markdown",
   "metadata": {},
   "source": [
    "### Train a classifier on the original Fashion MNIST dataset"
   ]
  },
  {
   "attachments": {},
   "cell_type": "markdown",
   "metadata": {},
   "source": [
    "#### Choose the classifier type and instantiate it"
   ]
  },
  {
   "cell_type": "code",
   "execution_count": null,
   "metadata": {},
   "outputs": [],
   "source": [
    "classifier_type = ClassifierType.TRANSFER_LEARNING"
   ]
  },
  {
   "cell_type": "code",
   "execution_count": null,
   "metadata": {},
   "outputs": [],
   "source": [
    "match classifier_type:\n",
    "    case ClassifierType.SHALLOW:\n",
    "        cls = SNNOriginalClassifier()\n",
    "    case ClassifierType.DEEP:\n",
    "        cls = DNNOriginalClassifier()\n",
    "    case ClassifierType.CONVOLUTIONAL:\n",
    "        cls = CNNOriginalClassifier()\n",
    "    case ClassifierType.TRANSFER_LEARNING:\n",
    "        cls = EfficientNetOriginalClassifier()\n",
    "    case _:\n",
    "        raise ValueError('Unavailable classifier type')"
   ]
  },
  {
   "attachments": {},
   "cell_type": "markdown",
   "metadata": {},
   "source": [
    "#### Preprocess the data and display information about the dataset"
   ]
  },
  {
   "cell_type": "code",
   "execution_count": null,
   "metadata": {},
   "outputs": [],
   "source": [
    "cls.preprocess_dataset()\n",
    "cls.display_dataset_information()\n",
    "cls.display_dataset_sample(9)"
   ]
  },
  {
   "attachments": {},
   "cell_type": "markdown",
   "metadata": {},
   "source": [
    "#### Build the model and display it"
   ]
  },
  {
   "cell_type": "code",
   "execution_count": null,
   "metadata": {},
   "outputs": [],
   "source": [
    "cls.build_model()\n",
    "cls.display_model()"
   ]
  },
  {
   "cell_type": "markdown",
   "metadata": {},
   "source": [
    "#### Train and evaluate the model"
   ]
  },
  {
   "cell_type": "code",
   "execution_count": null,
   "metadata": {},
   "outputs": [],
   "source": [
    "cls.train_model()\n",
    "cls.evaluate_model(cls.training_history, cls.test_accuracy)"
   ]
  },
  {
   "attachments": {},
   "cell_type": "markdown",
   "metadata": {},
   "source": [
    "#### Export the model"
   ]
  },
  {
   "cell_type": "code",
   "execution_count": null,
   "metadata": {},
   "outputs": [],
   "source": [
    "cls.export_model()"
   ]
  }
 ],
 "metadata": {
  "kernelspec": {
   "display_name": "gan-augmentation",
   "language": "python",
   "name": "python3"
  },
  "language_info": {
   "codemirror_mode": {
    "name": "ipython",
    "version": 3
   },
   "file_extension": ".py",
   "mimetype": "text/x-python",
   "name": "python",
   "nbconvert_exporter": "python",
   "pygments_lexer": "ipython3",
   "version": "3.10.4"
  },
  "orig_nbformat": 4
 },
 "nbformat": 4,
 "nbformat_minor": 2
}
