{
 "cells": [
  {
   "attachments": {},
   "cell_type": "markdown",
   "metadata": {},
   "source": [
    "## Update PYTHONPATH"
   ]
  },
  {
   "cell_type": "code",
   "execution_count": 1,
   "metadata": {},
   "outputs": [],
   "source": [
    "from pathlib import Path\n",
    "import sys\n",
    "\n",
    "project_path = Path.cwd()\n",
    "while project_path.stem != 'gan-augmentation':\n",
    "    project_path = project_path.parent\n",
    "sys.path.append(str(project_path))"
   ]
  },
  {
   "attachments": {},
   "cell_type": "markdown",
   "metadata": {},
   "source": [
    "## Imports"
   ]
  },
  {
   "cell_type": "code",
   "execution_count": 2,
   "metadata": {},
   "outputs": [],
   "source": [
    "from scripts.classifiers.shallow_original_classifier import SNNOriginalClassifier\n",
    "from scripts.classifiers.deep_original_classifier import DNNOriginalClassifier\n",
    "from scripts.classifiers.convolutional_original_classifier import CNNOriginalClassifier\n",
    "from scripts.classifiers.efficientnet_original_classifier import EfficientNetOriginalClassifier\n",
    "from scripts.classifiers.fashion_mnist_classifier import FashionMNISTClassifier"
   ]
  },
  {
   "attachments": {},
   "cell_type": "markdown",
   "metadata": {},
   "source": [
    "## Train a classifier on the original Fashion MNIST dataset"
   ]
  },
  {
   "attachments": {},
   "cell_type": "markdown",
   "metadata": {},
   "source": [
    "### Choose the classifier type and instantiate it"
   ]
  },
  {
   "cell_type": "code",
   "execution_count": 3,
   "metadata": {},
   "outputs": [],
   "source": [
    "classifier_type = 'shallow'"
   ]
  },
  {
   "cell_type": "code",
   "execution_count": 4,
   "metadata": {},
   "outputs": [],
   "source": [
    "match classifier_type:\n",
    "    case 'shallow':\n",
    "        cls = SNNOriginalClassifier()\n",
    "    case 'deep':\n",
    "        cls = DNNOriginalClassifier()\n",
    "    case 'convolutional':\n",
    "        cls = CNNOriginalClassifier()\n",
    "    case 'transfer_learning':\n",
    "        cls = EfficientNetOriginalClassifier()\n",
    "    case _:\n",
    "        raise ValueError('Unavailable classifier type')"
   ]
  },
  {
   "attachments": {},
   "cell_type": "markdown",
   "metadata": {},
   "source": [
    "### Preprocess the data and display information about the dataset"
   ]
  },
  {
   "cell_type": "code",
   "execution_count": 5,
   "metadata": {},
   "outputs": [
    {
     "name": "stdout",
     "output_type": "stream",
     "text": [
      "INFO:scripts.classifiers.fashion_mnist_classifier:>>> Train Set Shape: X_train.shape=(51000, 28, 28, 1), y_train.shape=(51000, 10)\n",
      "INFO:scripts.classifiers.fashion_mnist_classifier:>>> Validation Set Shape: X_valid.shape=(9000, 28, 28, 1), y_valid.shape=(9000, 10)\n",
      "INFO:scripts.classifiers.fashion_mnist_classifier:>>> Test Set Shape: X_test.shape=(10000, 28, 28, 1), y_test.shape=(10000, 10)\n"
     ]
    },
    {
     "data": {
      "image/png": "[encoded data removed]",
      "text/plain": [
       "<Figure size 640x480 with 9 Axes>"
      ]
     },
     "metadata": {},
     "output_type": "display_data"
    }
   ],
   "source": [
    "cls.preprocess_dataset()\n",
    "cls.display_dataset_information()\n",
    "cls.display_dataset_sample(9)"
   ]
  },
  {
   "attachments": {},
   "cell_type": "markdown",
   "metadata": {},
   "source": [
    "### Build the model and display it"
   ]
  },
  {
   "cell_type": "code",
   "execution_count": 6,
   "metadata": {},
   "outputs": [
    {
     "name": "stdout",
     "output_type": "stream",
     "text": [
      "Model: \"SNNOriginalClassifier\"\n",
      "_________________________________________________________________\n",
      "Layer (type)                 Output Shape              Param #   \n",
      "=================================================================\n",
      "flatten (Flatten)            (None, 784)               0         \n",
      "_________________________________________________________________\n",
      "dense (Dense)                (None, 10)                7850      \n",
      "=================================================================\n",
      "Total params: 7,850\n",
      "Trainable params: 7,850\n",
      "Non-trainable params: 0\n",
      "_________________________________________________________________\n"
     ]
    }
   ],
   "source": [
    "cls.build_model()\n",
    "cls.display_model()"
   ]
  },
  {
   "cell_type": "markdown",
   "metadata": {},
   "source": [
    "### Train and evaluate the model"
   ]
  },
  {
   "cell_type": "code",
   "execution_count": 7,
   "metadata": {},
   "outputs": [
    {
     "ename": "AttributeError",
     "evalue": "module 'scripts.config' has no attribute 'BATCH_SIZE_SHALLOW'",
     "output_type": "error",
     "traceback": [
      "\u001b[1;31m---------------------------------------------------------------------------\u001b[0m",
      "\u001b[1;31mAttributeError\u001b[0m                            Traceback (most recent call last)",
      "Cell \u001b[1;32mIn[7], line 1\u001b[0m\n\u001b[1;32m----> 1\u001b[0m \u001b[39mcls\u001b[39;49m\u001b[39m.\u001b[39;49mtrain_model()\n\u001b[0;32m      2\u001b[0m \u001b[39mcls\u001b[39m\u001b[39m.\u001b[39mevaluate_model()\n",
      "File \u001b[1;32md:\\Programare\\Python\\Deep Learning\\gan-augmentation\\scripts\\classifiers\\shallow_original_classifier.py:52\u001b[0m, in \u001b[0;36mSNNOriginalClassifier.train_model\u001b[1;34m(self)\u001b[0m\n\u001b[0;32m     49\u001b[0m \u001b[39mself\u001b[39m\u001b[39m.\u001b[39m_create_current_run_directory()\n\u001b[0;32m     50\u001b[0m es_callback \u001b[39m=\u001b[39m EarlyStopping(monitor\u001b[39m=\u001b[39m\u001b[39m'\u001b[39m\u001b[39mval_loss\u001b[39m\u001b[39m'\u001b[39m, patience\u001b[39m=\u001b[39m\u001b[39m5\u001b[39m, verbose\u001b[39m=\u001b[39m\u001b[39m1\u001b[39m, restore_best_weights\u001b[39m=\u001b[39m\u001b[39mTrue\u001b[39;00m)\n\u001b[1;32m---> 52\u001b[0m \u001b[39mself\u001b[39m\u001b[39m.\u001b[39m__training_history \u001b[39m=\u001b[39m \u001b[39mself\u001b[39m\u001b[39m.\u001b[39mmodel\u001b[39m.\u001b[39mfit(x\u001b[39m=\u001b[39m\u001b[39mself\u001b[39m\u001b[39m.\u001b[39mX_train, y\u001b[39m=\u001b[39m\u001b[39mself\u001b[39m\u001b[39m.\u001b[39my_train, batch_size\u001b[39m=\u001b[39mconfig\u001b[39m.\u001b[39;49mBATCH_SIZE_SHALLOW,\n\u001b[0;32m     53\u001b[0m                                          epochs\u001b[39m=\u001b[39mconfig\u001b[39m.\u001b[39mNUM_EPOCHS_SHALLOW, verbose\u001b[39m=\u001b[39m\u001b[39m1\u001b[39m, callbacks\u001b[39m=\u001b[39m[es_callback],\n\u001b[0;32m     54\u001b[0m                                          validation_data\u001b[39m=\u001b[39m(\u001b[39mself\u001b[39m\u001b[39m.\u001b[39mX_valid, \u001b[39mself\u001b[39m\u001b[39m.\u001b[39my_valid))\u001b[39m.\u001b[39mhistory\n\u001b[0;32m     55\u001b[0m \u001b[39mself\u001b[39m\u001b[39m.\u001b[39m__test_accuracy \u001b[39m=\u001b[39m \u001b[39mself\u001b[39m\u001b[39m.\u001b[39mmodel\u001b[39m.\u001b[39mevaluate(x\u001b[39m=\u001b[39m\u001b[39mself\u001b[39m\u001b[39m.\u001b[39mX_test, y\u001b[39m=\u001b[39m\u001b[39mself\u001b[39m\u001b[39m.\u001b[39my_test, batch_size\u001b[39m=\u001b[39mconfig\u001b[39m.\u001b[39mBATCH_SIZE_SHALLOW,\n\u001b[0;32m     56\u001b[0m                                            verbose\u001b[39m=\u001b[39m\u001b[39m1\u001b[39m, return_dict\u001b[39m=\u001b[39m\u001b[39mTrue\u001b[39;00m)\n",
      "\u001b[1;31mAttributeError\u001b[0m: module 'scripts.config' has no attribute 'BATCH_SIZE_SHALLOW'"
     ]
    }
   ],
   "source": [
    "cls.train_model()\n",
    "cls.evaluate_model()"
   ]
  },
  {
   "attachments": {},
   "cell_type": "markdown",
   "metadata": {},
   "source": [
    "### Export the model"
   ]
  },
  {
   "cell_type": "code",
   "execution_count": null,
   "metadata": {},
   "outputs": [],
   "source": [
    "cls.export_model()"
   ]
  },
  {
   "cell_type": "code",
   "execution_count": null,
   "metadata": {},
   "outputs": [],
   "source": []
  }
 ],
 "metadata": {
  "kernelspec": {
   "display_name": "gan-augmentation",
   "language": "python",
   "name": "python3"
  },
  "language_info": {
   "codemirror_mode": {
    "name": "ipython",
    "version": 3
   },
   "file_extension": ".py",
   "mimetype": "text/x-python",
   "name": "python",
   "nbconvert_exporter": "python",
   "pygments_lexer": "ipython3",
   "version": "3.10.4"
  },
  "orig_nbformat": 4
 },
 "nbformat": 4,
 "nbformat_minor": 2
}
